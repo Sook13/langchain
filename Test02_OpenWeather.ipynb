{
 "cells": [
  {
   "cell_type": "code",
   "execution_count": 4,
   "id": "2b8be68f",
   "metadata": {},
   "outputs": [],
   "source": [
    "import os \n",
    "from dotenv import load_dotenv\n",
    "load_dotenv(override=True)\n",
    "import requests\n",
    "import json\n"
   ]
  },
  {
   "cell_type": "code",
   "execution_count": 5,
   "id": "3bd37393",
   "metadata": {},
   "outputs": [
    {
     "name": "stdout",
     "output_type": "stream",
     "text": [
      "660f775a7383aad35872620768d2aa33\n"
     ]
    }
   ],
   "source": [
    "OPEN_WEATHER_KEY = os.getenv(\"OPEN_WEATHER_KEY\")\n",
    "print(OPEN_WEATHER_KEY)\n"
   ]
  },
  {
   "cell_type": "code",
   "execution_count": 6,
   "id": "2e408726",
   "metadata": {},
   "outputs": [
    {
     "name": "stdout",
     "output_type": "stream",
     "text": [
      "{'coord': {'lon': 118.8, 'lat': 32.06}, 'weather': [{'id': 800, 'main': 'Clear', 'description': '晴', 'icon': '01d'}], 'base': 'stations', 'main': {'temp': 35.85, 'feels_like': 42.85, 'temp_min': 35.85, 'temp_max': 35.85, 'pressure': 1008, 'humidity': 52, 'sea_level': 1008, 'grnd_level': 1006}, 'visibility': 10000, 'wind': {'speed': 3.23, 'deg': 213, 'gust': 4.2}, 'clouds': {'all': 1}, 'dt': 1755575127, 'sys': {'country': 'CN', 'sunrise': 1755552708, 'sunset': 1755600330}, 'timezone': 28800, 'id': 1799962, 'name': 'Nanjing', 'cod': 200}\n"
     ]
    }
   ],
   "source": [
    "# Step 1.构建请求\n",
    "url = \"https://api.openweathermap.org/data/2.5/weather\"\n",
    "\n",
    "# Step 2.设置查询参数\n",
    "params = {\n",
    "\"lat\":\"32.06\",   # 查询南京实时天气\n",
    "\"lon\":\"118.80\",\n",
    "\"appid\": OPEN_WEATHER_KEY,# 输入API key\n",
    "\"units\": \"metric\",# 使用摄氏度而不是华氏度\n",
    "\"lang\": \"zh_cn\"# 输出语言为简体中文\n",
    "}\n",
    "\n",
    "# Step 3.发送GET请求\n",
    "response = requests.get(url, params=params)\n",
    "\n",
    "# Step 4.解析响应\n",
    "data = response.json()\n",
    "print(data)"
   ]
  },
  {
   "cell_type": "markdown",
   "id": "646975b6",
   "metadata": {},
   "source": [
    "LangChain 调用外部工具流程"
   ]
  },
  {
   "cell_type": "code",
   "execution_count": 7,
   "id": "b3064793",
   "metadata": {},
   "outputs": [
    {
     "name": "stdout",
     "output_type": "stream",
     "text": [
      "660f775a7383aad35872620768d2aa33\n"
     ]
    }
   ],
   "source": [
    "import os\n",
    "from dotenv import load_dotenv \n",
    "load_dotenv(override=True)\n",
    "\n",
    "OPEN_WEATHER_KEY = os.getenv(\"OPEN_WEATHER_KEY\")\n",
    "print(OPEN_WEATHER_KEY)\n"
   ]
  },
  {
   "cell_type": "code",
   "execution_count": 8,
   "id": "2422933e",
   "metadata": {},
   "outputs": [],
   "source": [
    "import os\n",
    "import requests\n",
    "import json\n",
    "from langchain_core.tools import tool\n",
    "\n",
    "@tool\n",
    "def get_weather(lat, lon):\n",
    "\n",
    "  \"\"\"\n",
    "  查询即时天气函数\n",
    "  :param lat : 必要参数，字符串类型，用于表示查询天气的具体纬度，\\\n",
    "  :param lon : 必要参数，字符串类型，用于表示查询天气的具体经度，\\\n",
    "\n",
    "  :return：OpenWeather API查询即时天气的结果，具体URL请求地址为：https://api.openweathermap.org/data/2.5/weather\\\n",
    "  返回结果对象类型为解析之后的JSON格式对象，并用字符串形式进行表示，其中包含了全部重要的天气信息\n",
    "  \"\"\"\n",
    "  # Step 1.构建请求\n",
    "  url = \"https://api.openweathermap.org/data/2.5/weather\"\n",
    "\n",
    "  # Step 2.设置查询参数\n",
    "  params = {\n",
    "  \"lat\": lat,   # 纬度\n",
    "  \"lon\": lon,   # 经度\n",
    "  \"appid\": OPEN_WEATHER_KEY,# 输入API key\n",
    "  \"units\": \"metric\",# 使用摄氏度而不是华氏度\n",
    "  \"lang\":\"zh_cn\"# 输出语言为简体中文\n",
    "  }\n",
    "\n",
    "  # Step 3.发送GET请求\n",
    "  response = requests.get(url, params=params)\n",
    "\n",
    "  # Step 4.解析响应\n",
    "  data = response.json()\n",
    "  return json.dumps(data)"
   ]
  },
  {
   "cell_type": "code",
   "execution_count": 9,
   "id": "9f48bb46",
   "metadata": {},
   "outputs": [],
   "source": [
    "from langchain.chat_models import init_chat_model\n",
    "\n",
    "# 初始化模型\n",
    "model = init_chat_model(\"deepseek-chat\", model_provider=\"deepseek\")"
   ]
  },
  {
   "cell_type": "code",
   "execution_count": 10,
   "id": "2c0122f5",
   "metadata": {},
   "outputs": [],
   "source": [
    "# 定义 天气查询 工具函数\n",
    "tools = [get_weather]\n",
    "\n",
    "# 将工具绑定到模型\n",
    "llm_with_tools = model.bind_tools(tools)"
   ]
  },
  {
   "cell_type": "code",
   "execution_count": 11,
   "id": "c8ab9ca5",
   "metadata": {},
   "outputs": [
    {
     "name": "stdout",
     "output_type": "stream",
     "text": [
      "content='' additional_kwargs={'tool_calls': [{'id': 'call_0_34a40ef0-4bd3-4293-8315-82c8556e58f4', 'function': {'arguments': '{\"lat\":\"32.0603\",\"lon\":\"118.7969\"}', 'name': 'get_weather'}, 'type': 'function', 'index': 0}], 'refusal': None} response_metadata={'token_usage': {'completion_tokens': 29, 'prompt_tokens': 202, 'total_tokens': 231, 'completion_tokens_details': None, 'prompt_tokens_details': {'audio_tokens': None, 'cached_tokens': 64}, 'prompt_cache_hit_tokens': 64, 'prompt_cache_miss_tokens': 138}, 'model_name': 'deepseek-chat', 'system_fingerprint': 'fp_8802369eaa_prod0623_fp8_kvcache', 'id': 'da95ca5e-b572-4cfd-a61b-611e927f661c', 'service_tier': None, 'finish_reason': 'tool_calls', 'logprobs': None} id='run--53cffc49-a477-412e-8008-0ea47cdf7df2-0' tool_calls=[{'name': 'get_weather', 'args': {'lat': '32.0603', 'lon': '118.7969'}, 'id': 'call_0_34a40ef0-4bd3-4293-8315-82c8556e58f4', 'type': 'tool_call'}] usage_metadata={'input_tokens': 202, 'output_tokens': 29, 'total_tokens': 231, 'input_token_details': {'cache_read': 64}, 'output_token_details': {}}\n",
      "{'tool_calls': [{'id': 'call_0_34a40ef0-4bd3-4293-8315-82c8556e58f4', 'function': {'arguments': '{\"lat\":\"32.0603\",\"lon\":\"118.7969\"}', 'name': 'get_weather'}, 'type': 'function', 'index': 0}], 'refusal': None}\n"
     ]
    }
   ],
   "source": [
    "response = llm_with_tools.invoke(\"请问南京的天气如何?\")\n",
    "print(response)\n",
    "print(response.additional_kwargs)\n"
   ]
  },
  {
   "cell_type": "markdown",
   "id": "149d9165",
   "metadata": {},
   "source": [
    "  我们需要调用ToolsAgentOutputParser输出解析器来处理模型响应。"
   ]
  },
  {
   "cell_type": "code",
   "execution_count": 12,
   "id": "8d4598cd",
   "metadata": {},
   "outputs": [
    {
     "name": "stdout",
     "output_type": "stream",
     "text": [
      "[ToolAgentAction(tool='get_weather', tool_input={'lat': '32.0603', 'lon': '118.7969'}, log=\"\\nInvoking: `get_weather` with `{'lat': '32.0603', 'lon': '118.7969'}`\\n\\n\\n\", message_log=[AIMessage(content='', additional_kwargs={'tool_calls': [{'id': 'call_0_34a40ef0-4bd3-4293-8315-82c8556e58f4', 'function': {'arguments': '{\"lat\":\"32.0603\",\"lon\":\"118.7969\"}', 'name': 'get_weather'}, 'type': 'function', 'index': 0}], 'refusal': None}, response_metadata={'token_usage': {'completion_tokens': 29, 'prompt_tokens': 202, 'total_tokens': 231, 'completion_tokens_details': None, 'prompt_tokens_details': {'audio_tokens': None, 'cached_tokens': 64}, 'prompt_cache_hit_tokens': 64, 'prompt_cache_miss_tokens': 138}, 'model_name': 'deepseek-chat', 'system_fingerprint': 'fp_8802369eaa_prod0623_fp8_kvcache', 'id': 'da95ca5e-b572-4cfd-a61b-611e927f661c', 'service_tier': None, 'finish_reason': 'tool_calls', 'logprobs': None}, id='run--53cffc49-a477-412e-8008-0ea47cdf7df2-0', tool_calls=[{'name': 'get_weather', 'args': {'lat': '32.0603', 'lon': '118.7969'}, 'id': 'call_0_34a40ef0-4bd3-4293-8315-82c8556e58f4', 'type': 'tool_call'}], usage_metadata={'input_tokens': 202, 'output_tokens': 29, 'total_tokens': 231, 'input_token_details': {'cache_read': 64}, 'output_token_details': {}})], tool_call_id='call_0_34a40ef0-4bd3-4293-8315-82c8556e58f4')]\n"
     ]
    }
   ],
   "source": [
    "from langchain.agents.output_parsers.tools import ToolsAgentOutputParser\n",
    "\n",
    "# 解析模型响应\n",
    "agentAction = ToolsAgentOutputParser().invoke(response)\n",
    "\n",
    "print(agentAction)"
   ]
  },
  {
   "cell_type": "code",
   "execution_count": 13,
   "id": "015710d5",
   "metadata": {},
   "outputs": [
    {
     "name": "stdout",
     "output_type": "stream",
     "text": [
      "{'lat': '32.0603', 'lon': '118.7969'}\n"
     ]
    }
   ],
   "source": [
    "for tool_call in response.tool_calls:\n",
    "  print(tool_call[\"args\"])"
   ]
  },
  {
   "cell_type": "code",
   "execution_count": 14,
   "id": "d111ab7a",
   "metadata": {},
   "outputs": [
    {
     "name": "stdout",
     "output_type": "stream",
     "text": [
      "{\"coord\": {\"lon\": 118.8, \"lat\": 32.06}, \"weather\": [{\"id\": 800, \"main\": \"Clear\", \"description\": \"\\u6674\", \"icon\": \"01d\"}], \"base\": \"stations\", \"main\": {\"temp\": 35.85, \"feels_like\": 42.85, \"temp_min\": 35.85, \"temp_max\": 35.85, \"pressure\": 1008, \"humidity\": 52, \"sea_level\": 1008, \"grnd_level\": 1006}, \"visibility\": 10000, \"wind\": {\"speed\": 3.23, \"deg\": 213, \"gust\": 4.2}, \"clouds\": {\"all\": 1}, \"dt\": 1755575127, \"sys\": {\"country\": \"CN\", \"sunrise\": 1755552708, \"sunset\": 1755600330}, \"timezone\": 28800, \"id\": 1799962, \"name\": \"Nanjing\", \"cod\": 200}\n"
     ]
    }
   ],
   "source": [
    "# 获取工具调用\n",
    "for tool_call in response.tool_calls:\n",
    "  selected_tool = {\"get_weather\": get_weather}[\"get_weather\"]\n",
    "\n",
    "tool_output = selected_tool.invoke(tool_call[\"args\"])\n",
    "print(tool_output)"
   ]
  },
  {
   "cell_type": "markdown",
   "id": "ea041a1e",
   "metadata": {},
   "source": [
    "agent_action：AgentAction 对象\n",
    "‑ tool: 要调用的工具名\n",
    "‑ tool_input: dict，传给工具的参数\n",
    "‑ log: 字符串，agent 在思考时写的 log（供人看）\n",
    "tool_output：工具返回的字符串 / dict / 任意对象"
   ]
  },
  {
   "cell_type": "code",
   "execution_count": 15,
   "id": "ec958514",
   "metadata": {},
   "outputs": [
    {
     "data": {
      "text/plain": [
       "[AIMessage(content='', additional_kwargs={'tool_calls': [{'id': 'call_0_34a40ef0-4bd3-4293-8315-82c8556e58f4', 'function': {'arguments': '{\"lat\":\"32.0603\",\"lon\":\"118.7969\"}', 'name': 'get_weather'}, 'type': 'function', 'index': 0}], 'refusal': None}, response_metadata={'token_usage': {'completion_tokens': 29, 'prompt_tokens': 202, 'total_tokens': 231, 'completion_tokens_details': None, 'prompt_tokens_details': {'audio_tokens': None, 'cached_tokens': 64}, 'prompt_cache_hit_tokens': 64, 'prompt_cache_miss_tokens': 138}, 'model_name': 'deepseek-chat', 'system_fingerprint': 'fp_8802369eaa_prod0623_fp8_kvcache', 'id': 'da95ca5e-b572-4cfd-a61b-611e927f661c', 'service_tier': None, 'finish_reason': 'tool_calls', 'logprobs': None}, id='run--53cffc49-a477-412e-8008-0ea47cdf7df2-0', tool_calls=[{'name': 'get_weather', 'args': {'lat': '32.0603', 'lon': '118.7969'}, 'id': 'call_0_34a40ef0-4bd3-4293-8315-82c8556e58f4', 'type': 'tool_call'}], usage_metadata={'input_tokens': 202, 'output_tokens': 29, 'total_tokens': 231, 'input_token_details': {'cache_read': 64}, 'output_token_details': {}}),\n",
       " ToolMessage(content='{\"coord\": {\"lon\": 118.8, \"lat\": 32.06}, \"weather\": [{\"id\": 800, \"main\": \"Clear\", \"description\": \"\\\\u6674\", \"icon\": \"01d\"}], \"base\": \"stations\", \"main\": {\"temp\": 35.85, \"feels_like\": 42.85, \"temp_min\": 35.85, \"temp_max\": 35.85, \"pressure\": 1008, \"humidity\": 52, \"sea_level\": 1008, \"grnd_level\": 1006}, \"visibility\": 10000, \"wind\": {\"speed\": 3.23, \"deg\": 213, \"gust\": 4.2}, \"clouds\": {\"all\": 1}, \"dt\": 1755575127, \"sys\": {\"country\": \"CN\", \"sunrise\": 1755552708, \"sunset\": 1755600330}, \"timezone\": 28800, \"id\": 1799962, \"name\": \"Nanjing\", \"cod\": 200}', tool_call_id='call_0_34a40ef0-4bd3-4293-8315-82c8556e58f4')]"
      ]
     },
     "execution_count": 15,
     "metadata": {},
     "output_type": "execute_result"
    }
   ],
   "source": [
    "from langchain.agents.format_scratchpad.tools import format_to_tool_messages\n",
    "\n",
    "format_to_tool_messages(intermediate_steps = [(agentAction[0], tool_output)])"
   ]
  },
  {
   "cell_type": "markdown",
   "id": "22be7d1c",
   "metadata": {},
   "source": [
    "AIMessage 代表“大模型决定调用工具”\n",
    "ToolMessage 代表“工具实际返回的结果”   \n",
    "agent_scratchpad Agent 的“草稿纸”——一个临时变量，用来把已经发生的工具调用及其结果拼成一段文本或消息列表，再塞回给 LLM，让它在下一轮还能“看到”之前干了什么，从而继续推理。"
   ]
  },
  {
   "cell_type": "markdown",
   "id": "c6de56a0",
   "metadata": {},
   "source": [
    "历次 AgentAction（工具名、参数、LLM 当时的思考 log）\n",
    "对应的 Observation（工具返回的内容）\n",
    "按 ReAct 格式或 OpenAI 函数调用格式组织好，作为上下文追加到提示里\n",
    "用户问问题\n",
    "   ↓\n",
    "AgentExecutor 组装 prompt → 把 agent_scratchpad 填进去\n",
    "   ↓\n",
    "LLM 决定调用工具\n",
    "   ↓\n",
    "工具执行，得到 observation\n",
    "   ↓\n",
    "新的 (AgentAction, observation) 被追加到 intermediate_steps\n",
    "   ↓\n",
    "再次被 format 成 agent_scratchpad\n",
    "   ↓\n",
    "循环，直到 LLM 给出 Final Answer"
   ]
  },
  {
   "cell_type": "code",
   "execution_count": 16,
   "id": "092b8f64",
   "metadata": {},
   "outputs": [],
   "source": [
    "from langchain.agents import create_tool_calling_agent, tool\n",
    "from langchain_core.prompts import ChatPromptTemplate\n",
    "\n",
    "#定义工具\n",
    "tools = [get_weather]\n",
    "\n",
    "# 构建提示模版\n",
    "prompt = ChatPromptTemplate.from_messages([\n",
    "(\"system\", \"你是天气助手，请根据用户的问题，给出相应的天气信息\"),\n",
    "(\"human\", \"{input}\"),\n",
    "(\"placeholder\", \"{agent_scratchpad}\"),\n",
    "])\n",
    "\n",
    "# 初始化模型\n",
    "model = init_chat_model(\"deepseek-chat\", model_provider=\"deepseek\")\n",
    "\n",
    "# 直接使用`create_tool_calling_agent`创建代理\n",
    "agent = create_tool_calling_agent(model, tools, prompt)"
   ]
  },
  {
   "cell_type": "markdown",
   "id": "7d4edd4b",
   "metadata": {},
   "source": [
    "  使用AgentExecutor来执行代理。代码如下："
   ]
  },
  {
   "cell_type": "code",
   "execution_count": 17,
   "id": "5115cfdd",
   "metadata": {},
   "outputs": [
    {
     "name": "stdout",
     "output_type": "stream",
     "text": [
      "\n",
      "\n",
      "\u001b[1m> Entering new AgentExecutor chain...\u001b[0m\n",
      "\u001b[32;1m\u001b[1;3m\n",
      "Invoking: `get_weather` with `{'lat': '32.0603', 'lon': '118.7969'}`\n",
      "\n",
      "\n",
      "\u001b[0m\u001b[36;1m\u001b[1;3m{\"coord\": {\"lon\": 118.8, \"lat\": 32.06}, \"weather\": [{\"id\": 800, \"main\": \"Clear\", \"description\": \"\\u6674\", \"icon\": \"01d\"}], \"base\": \"stations\", \"main\": {\"temp\": 35.85, \"feels_like\": 42.85, \"temp_min\": 35.85, \"temp_max\": 35.85, \"pressure\": 1008, \"humidity\": 52, \"sea_level\": 1008, \"grnd_level\": 1006}, \"visibility\": 10000, \"wind\": {\"speed\": 3.23, \"deg\": 213, \"gust\": 4.2}, \"clouds\": {\"all\": 1}, \"dt\": 1755575127, \"sys\": {\"country\": \"CN\", \"sunrise\": 1755552708, \"sunset\": 1755600330}, \"timezone\": 28800, \"id\": 1799962, \"name\": \"Nanjing\", \"cod\": 200}\u001b[0m\u001b[32;1m\u001b[1;3m今天南京的天气是晴天，气温为35.85°C，体感温度较高，达到42.85°C。湿度为52%，风速为3.23米/秒，风向为213度。能见度为10000米，气压为1008 hPa。整体天气状况良好，适合出行，但请注意防晒和补水。\u001b[0m\n",
      "\n",
      "\u001b[1m> Finished chain.\u001b[0m\n",
      "{'input': '请问今天南京的天气怎么样？', 'output': '今天南京的天气是晴天，气温为35.85°C，体感温度较高，达到42.85°C。湿度为52%，风速为3.23米/秒，风向为213度。能见度为10000米，气压为1008 hPa。整体天气状况良好，适合出行，但请注意防晒和补水。'}\n"
     ]
    }
   ],
   "source": [
    "from langchain.agents import AgentExecutor\n",
    "agent_executor = AgentExecutor(agent=agent, tools=tools, verbose=True)\n",
    "\n",
    "\n",
    "response = agent_executor.invoke({\"input\": \"请问今天南京的天气怎么样？\"})\n",
    "print(response)"
   ]
  },
  {
   "cell_type": "code",
   "execution_count": 18,
   "id": "9859ea72",
   "metadata": {},
   "outputs": [
    {
     "name": "stdout",
     "output_type": "stream",
     "text": [
      "今天南京的天气是晴天，气温为35.85°C，体感温度较高，达到42.85°C。湿度为52%，风速为3.23米/秒，风向为213度。能见度为10000米，气压为1008 hPa。整体天气状况良好，适合出行，但请注意防晒和补水。\n"
     ]
    }
   ],
   "source": [
    "print(response[\"output\"])"
   ]
  },
  {
   "cell_type": "markdown",
   "id": "9a0e3cf4",
   "metadata": {},
   "source": [
    "![agentexecutor.png](image/README/AgentExecutor.png)"
   ]
  },
  {
   "cell_type": "markdown",
   "id": "17068560",
   "metadata": {},
   "source": [
    "  在Agents的内部结构。每个Agent组件一般会由语言模型 + 提示 + 输出解析器构成，它会作为Agents的大脑去处理用户的输入。Agent能够处理的输入主要来源于三个方面：input代表用户的原始输入，Model Response指的是模型对某一个子任务的响应输出，而History则能携带上下文的信息。其输出部分，则链接到实际的工具库，需要调用哪些工具，将由经过Agent模块后拆分的子任务来决定。\n",
    "  而我们知道，大模型调用外部函数会分为两个过程：识别工具和实际执行。在Message -> Agent -> Toolkits 这个流程中，负责的是将子任务拆解，然后根据这些子任务在工具库中找到相应的工具，提取工具名称及所需参数，这个过程可以视作一种“静态”的执行流程。而将这些决策转化为实际行动的工作，则会交给AgentExecutor。\n",
    "  所以综上需要理解的是：在LangChain的Agents实际架构中，Agent的角色是接收输入并决定采取的操作，但它本身并不直接执行这些操作。这一任务是由AgentExecutor来完成的。将Agent（决策大脑）与AgentExecutor（执行操作的Runtime）结合使用，才构成了完整的Agents（智能体），其中AgentExecutor负责调用代理并执行指定的工具，以此来实现整个智能体的功能"
   ]
  },
  {
   "cell_type": "code",
   "execution_count": null,
   "id": "1818f438",
   "metadata": {},
   "outputs": [],
   "source": [
    "from langchain.agents import create_tool_calling_agent, tool\n",
    "from langchain_core.prompts import ChatPromptTemplate\n",
    "\n",
    "#定义工具\n",
    "tools = [get_weather]\n",
    "\n",
    "# 构建提示模版\n",
    "prompt = ChatPromptTemplate.from_messages([\n",
    "(\"system\", \"你是天气助手，请根据用户的问题，给出相应的天气信息\"),\n",
    "(\"human\", \"{input}\"),\n",
    "(\"placeholder\", \"{agent_scratchpad}\"),\n",
    "])\n",
    "\n",
    "# 初始化模型\n",
    "model = init_chat_model(\"deepseek-chat\", model_provider=\"deepseek\")\n",
    "\n",
    "# 直接使用`create_tool_calling_agent`创建代理\n",
    "agent = create_tool_calling_agent(model, tools, prompt)"
   ]
  },
  {
   "cell_type": "markdown",
   "id": "51ae6a1a",
   "metadata": {},
   "source": [
    "create_tool_calling_agent中，已经自动处理了{并行工具}调用的处理逻辑，并不需要我们在手动处理，比如接下来测试一些复杂的问题"
   ]
  },
  {
   "cell_type": "code",
   "execution_count": 20,
   "id": "de76731d",
   "metadata": {},
   "outputs": [
    {
     "name": "stdout",
     "output_type": "stream",
     "text": [
      "\n",
      "\n",
      "\u001b[1m> Entering new AgentExecutor chain...\u001b[0m\n",
      "\u001b[32;1m\u001b[1;3m\n",
      "Invoking: `get_weather` with `{'lat': '32.0603', 'lon': '118.7969'}`\n",
      "\n",
      "\n",
      "\u001b[0m\u001b[36;1m\u001b[1;3m{\"coord\": {\"lon\": 118.8, \"lat\": 32.06}, \"weather\": [{\"id\": 800, \"main\": \"Clear\", \"description\": \"\\u6674\", \"icon\": \"01d\"}], \"base\": \"stations\", \"main\": {\"temp\": 35.85, \"feels_like\": 42.85, \"temp_min\": 35.85, \"temp_max\": 35.85, \"pressure\": 1008, \"humidity\": 52, \"sea_level\": 1008, \"grnd_level\": 1006}, \"visibility\": 10000, \"wind\": {\"speed\": 3.23, \"deg\": 213, \"gust\": 4.2}, \"clouds\": {\"all\": 1}, \"dt\": 1755575127, \"sys\": {\"country\": \"CN\", \"sunrise\": 1755552708, \"sunset\": 1755600330}, \"timezone\": 28800, \"id\": 1799962, \"name\": \"Nanjing\", \"cod\": 200}\u001b[0m\u001b[32;1m\u001b[1;3m\n",
      "Invoking: `get_weather` with `{'lat': '34.7466', 'lon': '113.6253'}`\n",
      "\n",
      "\n",
      "\u001b[0m\u001b[36;1m\u001b[1;3m{\"coord\": {\"lon\": 113.6253, \"lat\": 34.7466}, \"weather\": [{\"id\": 802, \"main\": \"Clouds\", \"description\": \"\\u591a\\u4e91\", \"icon\": \"03d\"}], \"base\": \"stations\", \"main\": {\"temp\": 36.33, \"feels_like\": 42.63, \"temp_min\": 36.33, \"temp_max\": 36.33, \"pressure\": 1005, \"humidity\": 47, \"sea_level\": 1005, \"grnd_level\": 990}, \"visibility\": 10000, \"wind\": {\"speed\": 7.07, \"deg\": 201, \"gust\": 9.35}, \"clouds\": {\"all\": 38}, \"dt\": 1755575040, \"sys\": {\"country\": \"CN\", \"sunrise\": 1755553729, \"sunset\": 1755601793}, \"timezone\": 28800, \"id\": 1784658, \"name\": \"Zhengzhou\", \"cod\": 200}\u001b[0m\u001b[32;1m\u001b[1;3m今天南京和郑州的天气情况如下：\n",
      "\n",
      "- **南京**：\n",
      "  - 天气：晴\n",
      "  - 温度：35.85°C（体感温度42.85°C）\n",
      "  - 湿度：52%\n",
      "  - 风速：3.23 m/s\n",
      "\n",
      "- **郑州**：\n",
      "  - 天气：多云\n",
      "  - 温度：36.33°C（体感温度42.63°C）\n",
      "  - 湿度：47%\n",
      "  - 风速：7.07 m/s\n",
      "\n",
      "**对比**：郑州的温度略高于南京（36.33°C vs 35.85°C），因此郑州更热一些。\u001b[0m\n",
      "\n",
      "\u001b[1m> Finished chain.\u001b[0m\n",
      "{'input': '请问今天南京和郑州的天气怎么样，哪个城市更热？', 'output': '今天南京和郑州的天气情况如下：\\n\\n- **南京**：\\n  - 天气：晴\\n  - 温度：35.85°C（体感温度42.85°C）\\n  - 湿度：52%\\n  - 风速：3.23 m/s\\n\\n- **郑州**：\\n  - 天气：多云\\n  - 温度：36.33°C（体感温度42.63°C）\\n  - 湿度：47%\\n  - 风速：7.07 m/s\\n\\n**对比**：郑州的温度略高于南京（36.33°C vs 35.85°C），因此郑州更热一些。'}\n"
     ]
    }
   ],
   "source": [
    "from langchain.agents import AgentExecutor\n",
    "agent_executor = AgentExecutor(agent=agent, tools=tools, verbose=True)\n",
    "\n",
    "\n",
    "response = agent_executor.invoke({\"input\": \"请问今天南京和郑州的天气怎么样，哪个城市更热？\"})\n",
    "print(response)"
   ]
  },
  {
   "cell_type": "code",
   "execution_count": 21,
   "id": "97476093",
   "metadata": {},
   "outputs": [
    {
     "name": "stdout",
     "output_type": "stream",
     "text": [
      "今天南京和郑州的天气情况如下：\n",
      "\n",
      "- **南京**：\n",
      "  - 天气：晴\n",
      "  - 温度：35.85°C（体感温度42.85°C）\n",
      "  - 湿度：52%\n",
      "  - 风速：3.23 m/s\n",
      "\n",
      "- **郑州**：\n",
      "  - 天气：多云\n",
      "  - 温度：36.33°C（体感温度42.63°C）\n",
      "  - 湿度：47%\n",
      "  - 风速：7.07 m/s\n",
      "\n",
      "**对比**：郑州的温度略高于南京（36.33°C vs 35.85°C），因此郑州更热一些。\n"
     ]
    }
   ],
   "source": [
    "print(response[\"output\"])"
   ]
  },
  {
   "cell_type": "markdown",
   "id": "e721ac4c",
   "metadata": {},
   "source": [
    "![binglian.png](image/README/并联调用.png)"
   ]
  },
  {
   "cell_type": "code",
   "execution_count": 22,
   "id": "e17f405c",
   "metadata": {},
   "outputs": [],
   "source": [
    "@tool\n",
    "def write_file(content):\n",
    "    \"\"\"\n",
    "    将指定内容写入本地文件。\n",
    "    :param content: 必要参数，字符串类型，用于表示需要写入文档的具体内容。\n",
    "    :return：是否成功写入\n",
    "    \"\"\"\n",
    "\n",
    "    return \"已成功写入本地文件。\""
   ]
  },
  {
   "cell_type": "code",
   "execution_count": null,
   "id": "6c3569d2",
   "metadata": {},
   "outputs": [],
   "source": [
    "from langchain.agents import AgentExecutor, create_tool_calling_agent, tool\n",
    "from langchain_core.prompts import ChatPromptTemplate\n",
    "\n",
    "\n",
    "tools = [get_weather, write_file]\n",
    "\n",
    "prompt = ChatPromptTemplate.from_messages([\n",
    "(\"system\", \"你是天气助手，请根据用户的问题，给出相应的天气信息，如果用户需要将查询结果写入文件，请使用write_file工具\"),\n",
    "(\"human\", \"{input}\"),\n",
    "(\"placeholder\", \"{agent_scratchpad}\"),\n",
    "])\n",
    "\n",
    "# 初始化模型\n",
    "model = init_chat_model(\"deepseek-chat\", model_provider=\"deepseek\")\n",
    "\n",
    "agent = create_tool_calling_agent(model, tools, prompt)"
   ]
  },
  {
   "cell_type": "code",
   "execution_count": 24,
   "id": "cc7f9f0e",
   "metadata": {},
   "outputs": [
    {
     "name": "stdout",
     "output_type": "stream",
     "text": [
      "\n",
      "\n",
      "\u001b[1m> Entering new AgentExecutor chain...\u001b[0m\n",
      "\u001b[32;1m\u001b[1;3m\n",
      "Invoking: `get_weather` with `{'lat': '32.0603', 'lon': '118.7969'}`\n",
      "\n",
      "\n",
      "\u001b[0m\u001b[36;1m\u001b[1;3m{\"coord\": {\"lon\": 118.8, \"lat\": 32.06}, \"weather\": [{\"id\": 800, \"main\": \"Clear\", \"description\": \"\\u6674\", \"icon\": \"01d\"}], \"base\": \"stations\", \"main\": {\"temp\": 35.85, \"feels_like\": 42.85, \"temp_min\": 35.85, \"temp_max\": 35.85, \"pressure\": 1008, \"humidity\": 52, \"sea_level\": 1008, \"grnd_level\": 1006}, \"visibility\": 10000, \"wind\": {\"speed\": 3.23, \"deg\": 213, \"gust\": 4.2}, \"clouds\": {\"all\": 1}, \"dt\": 1755575127, \"sys\": {\"country\": \"CN\", \"sunrise\": 1755552708, \"sunset\": 1755600330}, \"timezone\": 28800, \"id\": 1799962, \"name\": \"Nanjing\", \"cod\": 200}\u001b[0m\u001b[32;1m\u001b[1;3m\n",
      "Invoking: `get_weather` with `{'lat': '39.9042', 'lon': '116.4074'}`\n",
      "\n",
      "\n",
      "\u001b[0m\u001b[36;1m\u001b[1;3m{\"coord\": {\"lon\": 116.4074, \"lat\": 39.9042}, \"weather\": [{\"id\": 501, \"main\": \"Rain\", \"description\": \"\\u4e2d\\u96e8\", \"icon\": \"10d\"}], \"base\": \"stations\", \"main\": {\"temp\": 25.17, \"feels_like\": 26.14, \"temp_min\": 25.17, \"temp_max\": 25.17, \"pressure\": 1006, \"humidity\": 92, \"sea_level\": 1006, \"grnd_level\": 1001}, \"visibility\": 8886, \"wind\": {\"speed\": 1.3, \"deg\": 13, \"gust\": 1.96}, \"rain\": {\"1h\": 1.12}, \"clouds\": {\"all\": 100}, \"dt\": 1755575040, \"sys\": {\"country\": \"CN\", \"sunrise\": 1755552588, \"sunset\": 1755601598}, \"timezone\": 28800, \"id\": 1816670, \"name\": \"Beijing\", \"cod\": 200}\u001b[0m\u001b[32;1m\u001b[1;3m\n",
      "Invoking: `write_file` with `{'content': '南京天气：晴，气温35.85°C，体感温度42.85°C，湿度52%，风速3.23m/s。\\n北京天气：中雨，气温25.17°C，体感温度26.14°C，湿度92%，风速1.3m/s。'}`\n",
      "\n",
      "\n",
      "\u001b[0m\u001b[33;1m\u001b[1;3m已成功写入本地文件。\u001b[0m\u001b[32;1m\u001b[1;3m南京和北京的天气信息已记录在本地文件中。内容如下：\n",
      "\n",
      "- **南京天气**：晴，气温35.85°C，体感温度42.85°C，湿度52%，风速3.23m/s。\n",
      "- **北京天气**：中雨，气温25.17°C，体感温度26.14°C，湿度92%，风速1.3m/s。\u001b[0m\n",
      "\n",
      "\u001b[1m> Finished chain.\u001b[0m\n",
      "{'input': '查一下南京和北京的天气如何,记录在本地文件中?', 'output': '南京和北京的天气信息已记录在本地文件中。内容如下：\\n\\n- **南京天气**：晴，气温35.85°C，体感温度42.85°C，湿度52%，风速3.23m/s。\\n- **北京天气**：中雨，气温25.17°C，体感温度26.14°C，湿度92%，风速1.3m/s。'}\n"
     ]
    }
   ],
   "source": [
    "agent_executor = AgentExecutor(agent=agent, tools=tools, verbose=True)\n",
    "\n",
    "response = agent_executor.invoke({\"input\": \"查一下南京和北京的天气如何,记录在本地文件中?\"})\n",
    "\n",
    "print(response)"
   ]
  }
 ],
 "metadata": {
  "kernelspec": {
   "display_name": "langchain",
   "language": "python",
   "name": "python3"
  },
  "language_info": {
   "codemirror_mode": {
    "name": "ipython",
    "version": 3
   },
   "file_extension": ".py",
   "mimetype": "text/x-python",
   "name": "python",
   "nbconvert_exporter": "python",
   "pygments_lexer": "ipython3",
   "version": "3.12.0"
  }
 },
 "nbformat": 4,
 "nbformat_minor": 5
}
